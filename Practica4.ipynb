{
  "nbformat": 4,
  "nbformat_minor": 0,
  "metadata": {
    "colab": {
      "provenance": []
    },
    "kernelspec": {
      "name": "python3",
      "display_name": "Python 3"
    },
    "language_info": {
      "name": "python"
    }
  },
  "cells": [
    {
      "cell_type": "code",
      "source": [
        "#INTERPOLACION DE DIFERENCIAS DIVIDIDAS DE NEWTON\n",
        "import numpy as np\n",
        "import sympy as sym\n",
        "import matplotlib.pyplot as plt\n",
        "\n",
        "# INGRESO , Datos de prueba\n",
        "xi = np.array([0,.6,.9])\n",
        "fi = np.array([1,.8253,.6216])\n",
        "\n",
        "# PROCEDIMIENTO\n",
        "\n",
        "# Tabla de Diferencias Divididas Avanzadas\n",
        "titulo = ['i   ','xi  ','fi  ']\n",
        "n = len(xi)\n",
        "ki = np.arange(0,n,1)\n",
        "tabla = np.concatenate(([ki],[xi],[fi]),axis=0)\n",
        "tabla = np.transpose(tabla)\n",
        "\n",
        "# diferencias divididas vacia\n",
        "dfinita = np.zeros(shape=(n,n),dtype=float)\n",
        "tabla = np.concatenate((tabla,dfinita), axis=1)\n",
        "\n",
        "# Calcula tabla, inicia en columna 3\n",
        "[n,m] = np.shape(tabla)\n",
        "diagonal = n-1\n",
        "j = 3\n",
        "while (j < m):\n",
        "    # Añade título para cada columna\n",
        "    titulo.append('F['+str(j-2)+']')\n",
        "\n",
        "    # cada fila de columna\n",
        "    i = 0\n",
        "    paso = j-2 # inicia en 1\n",
        "    while (i < diagonal):\n",
        "        denominador = (xi[i+paso]-xi[i])\n",
        "        numerador = tabla[i+1,j-1]-tabla[i,j-1]\n",
        "        tabla[i,j] = numerador/denominador\n",
        "        i = i+1\n",
        "    diagonal = diagonal - 1\n",
        "    j = j+1\n",
        "\n",
        "# POLINOMIO con diferencias Divididas\n",
        "# caso: puntos equidistantes en eje x\n",
        "dDividida = tabla[0,3:]\n",
        "n = len(dfinita)\n",
        "\n",
        "# expresión del polinomio con Sympy\n",
        "x = sym.Symbol('x')\n",
        "polinomio = fi[0]\n",
        "for j in range(1,n,1):\n",
        "    factor = dDividida[j-1]\n",
        "    termino = 1\n",
        "    for k in range(0,j,1):\n",
        "        termino = termino*(x-xi[k])\n",
        "    polinomio = polinomio + termino*factor\n",
        "\n",
        "# simplifica multiplicando entre (x-xi)\n",
        "polisimple = polinomio.expand()\n",
        "\n",
        "# polinomio para evaluacion numérica\n",
        "px = sym.lambdify(x,polisimple)\n",
        "\n",
        "# Puntos para la gráfica\n",
        "muestras = 101\n",
        "a = np.min(xi)\n",
        "b = np.max(xi)\n",
        "pxi = np.linspace(a,b,muestras)\n",
        "pfi = px(pxi)\n",
        "\n",
        "# SALIDA\n",
        "np.set_printoptions(precision = 4)\n",
        "print('Tabla Diferencia Dividida')\n",
        "print([titulo])\n",
        "print(tabla)\n",
        "print('dDividida: ')\n",
        "print(dDividida)\n",
        "print('polinomio: ')\n",
        "print(polinomio)\n",
        "print('polinomio simplificado: ' )\n",
        "print(polisimple)"
      ],
      "metadata": {
        "colab": {
          "base_uri": "https://localhost:8080/"
        },
        "id": "yLc6NczxxyK2",
        "outputId": "30f800ca-b073-4db5-9540-71c74f0ce7b0"
      },
      "execution_count": 2,
      "outputs": [
        {
          "output_type": "stream",
          "name": "stdout",
          "text": [
            "Tabla Diferencia Dividida\n",
            "[['i   ', 'xi  ', 'fi  ', 'F[1]', 'F[2]', 'F[3]']]\n",
            "[[ 0.      0.      1.     -0.2912 -0.4309  0.    ]\n",
            " [ 1.      0.6     0.8253 -0.679   0.      0.    ]\n",
            " [ 2.      0.9     0.6216  0.      0.      0.    ]]\n",
            "dDividida: \n",
            "[-0.2912 -0.4309  0.    ]\n",
            "polinomio: \n",
            "-0.430925925925926*x*(x - 0.6) - 0.291166666666667*x + 1.0\n",
            "polinomio simplificado: \n",
            "-0.430925925925926*x**2 - 0.0326111111111112*x + 1.0\n"
          ]
        }
      ]
    }
  ]
}
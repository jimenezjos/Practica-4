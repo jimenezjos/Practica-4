{
  "nbformat": 4,
  "nbformat_minor": 0,
  "metadata": {
    "colab": {
      "provenance": []
    },
    "kernelspec": {
      "name": "python3",
      "display_name": "Python 3"
    },
    "language_info": {
      "name": "python"
    }
  },
  "cells": [
    {
      "cell_type": "code",
      "source": [
        "import numpy as np\n",
        "from sympy import symbols, init_printing, lambdify, horner ,expand, pprint\n",
        "import matplotlib.pyplot as plt\n"
      ],
      "metadata": {
        "id": "rYfiOXvWQU3q"
      },
      "execution_count": 17,
      "outputs": []
    },
    {
      "cell_type": "code",
      "source": [
        "x=symbols('x')\n",
        "init_printing(use_unicode=True)\n",
        "\n",
        "def diferencia (x,y,yp):\n",
        "  n=len(x)\n",
        "  z=np.empty(shape=2 * n,dtype=float)\n",
        "  Q=np.zeros(shape=(2 * n,2*  n),dtype=float)\n",
        "  d=np.empty(shape=2 * n,dtype=float)\n",
        "\n",
        "\n",
        "  for i in np.arange(n):\n",
        "    z[2 * i]=x[i]\n",
        "    z[2 * i + 1]=x[i]\n",
        "    Q[2 * i][0]=y[i]\n",
        "    Q[2 * i + 1][0]=y[i]\n",
        "    Q[2 * i + 1][1]=yp[i]\n",
        "    if i != 0 :\n",
        "      Q[2 * i][1]=(Q[2 * i][0]-Q[2 * i - 1][0])/(z[2 * i]-z[2 * i -1])\n",
        "\n",
        "  for i in np.arange(2,2 * (n-1) + 2):\n",
        "    for j in np.arange(2,i+1):\n",
        "      f=Q[i][j-1]-Q[i-1][j-1]\n",
        "      g=z[i]-z[i-j]\n",
        "      Q[i][j]= f/g\n",
        "  d=Q.diagonal()\n",
        "  return z,d\n",
        "\n",
        "\n",
        "def polhermitesym(diff,z):\n",
        "  n=len(z)-1\n",
        "  pol=diff[n]\n",
        "  for k in np.arange(1,n+1):\n",
        "    pol=diff[n-k]+(x-z[n-k])*pol\n",
        "  return pol\n",
        "\n",
        "\n",
        "if __name__=='__main__':\n",
        "  datos_x=np.array([1.3,1.6,1.9],dtype=float)\n",
        "  datos_y=np.array([0.620086,0.45540222,0.2818186],dtype=float)\n",
        "  datos_yp=[-0.5220232,-0.5698959,-0.5811571]\n",
        "  d=diferencia(datos_x,datos_y,datos_yp)\n",
        "  diff=d[1]\n",
        "  polhermitesym=polhermitesym(diff,d[0])\n",
        "  pprint(\"El polinomiode interpolacion es: \")\n",
        "  pprint(expand(polhermitesym))\n",
        "  pprint('El valor de la aproximacion con x={0} es H({0})={1}  '.format(1.5,polhermitesym.subs(x,1.5)))\n",
        "\n",
        "\n",
        "\n"
      ],
      "metadata": {
        "colab": {
          "base_uri": "https://localhost:8080/"
        },
        "id": "9lmUf8uv0s9y",
        "outputId": "0b33d159-a0d8-41d5-9c10-9a655d5f711e"
      },
      "execution_count": 26,
      "outputs": [
        {
          "output_type": "stream",
          "name": "stdout",
          "text": [
            "El polinomiode interpolacion es: \n",
            "                       5                       4                       3      \n",
            "- 0.00277469135797899⋅x  + 0.0240342592589046⋅x  - 0.0145718827149562⋅x  - 0.2\n",
            "\n",
            "                2                                           \n",
            "35178688273278⋅x  - 0.00826825555428312⋅x + 1.00195912864159\n",
            "El valor de la aproximacion con x=1.5 es H(1.5)=0.511827717530864  \n"
          ]
        }
      ]
    }
  ]
}